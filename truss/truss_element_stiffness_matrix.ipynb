{
 "cells": [
  {
   "cell_type": "code",
   "execution_count": 1,
   "id": "e70fa864-241a-4836-84b0-eb57fdf24dbd",
   "metadata": {},
   "outputs": [
    {
     "data": {
      "text/plain": [
       "translate_matrix (generic function with 1 method)"
      ]
     },
     "execution_count": 1,
     "metadata": {},
     "output_type": "execute_result"
    }
   ],
   "source": [
    "function translate_matrix(c, s)\n",
    "    c2 = c^2\n",
    "    cs = c*s\n",
    "    s2 = s^2\n",
    "    T = [ c2  cs -c2 -cs;\n",
    "          cs  s2 -cs -s2;\n",
    "         -c2 -cs  c2  cs;\n",
    "         -cs -s2  cs  s2]\n",
    "end"
   ]
  },
  {
   "cell_type": "code",
   "execution_count": 2,
   "id": "a2fed567-2f78-4dd4-a5ed-45d5e2df7cc6",
   "metadata": {},
   "outputs": [
    {
     "data": {
      "text/plain": [
       "element_stiffness_matrix (generic function with 1 method)"
      ]
     },
     "execution_count": 2,
     "metadata": {},
     "output_type": "execute_result"
    }
   ],
   "source": [
    "function element_stiffness_matrix(E, A, L, c, s)\n",
    "    coef = E*A/L\n",
    "    T = translate_matrix(c, s)\n",
    "    K = coef * T\n",
    "end"
   ]
  },
  {
   "cell_type": "code",
   "execution_count": 15,
   "id": "a9939bf7-97de-47b2-af64-8019cb8ba862",
   "metadata": {},
   "outputs": [
    {
     "data": {
      "text/plain": [
       "assemble_to_global_stiffness_matrix (generic function with 4 methods)"
      ]
     },
     "execution_count": 15,
     "metadata": {},
     "output_type": "execute_result"
    }
   ],
   "source": [
    "function assemble_to_global_stiffness_matrix(K_global::Matrix{Float64}, K_element::Matrix{Float64}, dof_table::Vector{Int64})\n",
    "    n = size(dof_table)\n",
    "    for j = 1:n\n",
    "        for i = 1:n\n",
    "            K_global[dof_table[i], dof_table[j]] = K_global[dof_table[i], dof_table[j]] + K_element[i, j]\n",
    "        end\n",
    "    end\n",
    "    K_global\n",
    "end"
   ]
  },
  {
   "cell_type": "code",
   "execution_count": 4,
   "id": "975dbcf4-1b72-4e6f-a53e-65cf92663fb5",
   "metadata": {},
   "outputs": [
    {
     "data": {
      "text/plain": [
       "0"
      ]
     },
     "execution_count": 4,
     "metadata": {},
     "output_type": "execute_result"
    }
   ],
   "source": [
    "E = 1; A = 1; L = 1; c = 1; s = 0"
   ]
  },
  {
   "cell_type": "code",
   "execution_count": 5,
   "id": "e7b4ae4e-12fe-416d-aa0e-c6029704cd45",
   "metadata": {},
   "outputs": [
    {
     "data": {
      "text/plain": [
       "4×4 Matrix{Float64}:\n",
       "  1.0  0.0  -1.0  0.0\n",
       "  0.0  0.0   0.0  0.0\n",
       " -1.0  0.0   1.0  0.0\n",
       "  0.0  0.0   0.0  0.0"
      ]
     },
     "execution_count": 5,
     "metadata": {},
     "output_type": "execute_result"
    }
   ],
   "source": [
    "K_element = element_stiffness_matrix(E, A, L, c, s)"
   ]
  },
  {
   "cell_type": "code",
   "execution_count": 6,
   "id": "693a76d3-cb56-4289-a212-189b47c8f530",
   "metadata": {},
   "outputs": [
    {
     "data": {
      "text/plain": [
       "4×4 Matrix{Float64}:\n",
       " 0.0  0.0  0.0  0.0\n",
       " 0.0  0.0  0.0  0.0\n",
       " 0.0  0.0  0.0  0.0\n",
       " 0.0  0.0  0.0  0.0"
      ]
     },
     "execution_count": 6,
     "metadata": {},
     "output_type": "execute_result"
    }
   ],
   "source": [
    "K_global = zeros(Float64, 4, 4)"
   ]
  },
  {
   "cell_type": "code",
   "execution_count": 7,
   "id": "329c8666-038f-47cc-9e59-19311f06f42e",
   "metadata": {},
   "outputs": [
    {
     "data": {
      "text/plain": [
       "4-element Vector{Int64}:\n",
       " 1\n",
       " 2\n",
       " 3\n",
       " 4"
      ]
     },
     "execution_count": 7,
     "metadata": {},
     "output_type": "execute_result"
    }
   ],
   "source": [
    "dof_table = [1, 2, 3, 4]"
   ]
  },
  {
   "cell_type": "code",
   "execution_count": 19,
   "id": "44250a9d-e8bf-4c3a-90eb-a56ce588e70d",
   "metadata": {},
   "outputs": [
    {
     "ename": "LoadError",
     "evalue": "MethodError: no method matching (::Colon)(::Int64, ::Tuple{Int64})\n\n\u001b[0mClosest candidates are:\n\u001b[0m  (::Colon)(::T, ::Any, \u001b[91m::T\u001b[39m) where T<:Real\n\u001b[0m\u001b[90m   @\u001b[39m \u001b[90mBase\u001b[39m \u001b[90m\u001b[4mrange.jl:50\u001b[24m\u001b[39m\n\u001b[0m  (::Colon)(::A, ::Any, \u001b[91m::C\u001b[39m) where {A<:Real, C<:Real}\n\u001b[0m\u001b[90m   @\u001b[39m \u001b[90mBase\u001b[39m \u001b[90m\u001b[4mrange.jl:10\u001b[24m\u001b[39m\n\u001b[0m  (::Colon)(::T, ::Any, \u001b[91m::T\u001b[39m) where T\n\u001b[0m\u001b[90m   @\u001b[39m \u001b[90mBase\u001b[39m \u001b[90m\u001b[4mrange.jl:49\u001b[24m\u001b[39m\n\u001b[0m  ...\n",
     "output_type": "error",
     "traceback": [
      "MethodError: no method matching (::Colon)(::Int64, ::Tuple{Int64})\n\n\u001b[0mClosest candidates are:\n\u001b[0m  (::Colon)(::T, ::Any, \u001b[91m::T\u001b[39m) where T<:Real\n\u001b[0m\u001b[90m   @\u001b[39m \u001b[90mBase\u001b[39m \u001b[90m\u001b[4mrange.jl:50\u001b[24m\u001b[39m\n\u001b[0m  (::Colon)(::A, ::Any, \u001b[91m::C\u001b[39m) where {A<:Real, C<:Real}\n\u001b[0m\u001b[90m   @\u001b[39m \u001b[90mBase\u001b[39m \u001b[90m\u001b[4mrange.jl:10\u001b[24m\u001b[39m\n\u001b[0m  (::Colon)(::T, ::Any, \u001b[91m::T\u001b[39m) where T\n\u001b[0m\u001b[90m   @\u001b[39m \u001b[90mBase\u001b[39m \u001b[90m\u001b[4mrange.jl:49\u001b[24m\u001b[39m\n\u001b[0m  ...\n",
      "",
      "Stacktrace:",
      " [1] assemble_to_global_stiffness_matrix(K_global::Matrix{Float64}, K_element::Matrix{Float64}, dof_table::Vector{Int64})",
      "   @ Main .\\In[15]:3",
      " [2] top-level scope",
      "   @ In[19]:1"
     ]
    }
   ],
   "source": [
    "K_global = assemble_to_global_stiffness_matrix(K_global, K_element, dof_table)"
   ]
  }
 ],
 "metadata": {
  "kernelspec": {
   "display_name": "Julia 1.10.5",
   "language": "julia",
   "name": "julia-1.10"
  },
  "language_info": {
   "file_extension": ".jl",
   "mimetype": "application/julia",
   "name": "julia",
   "version": "1.10.5"
  }
 },
 "nbformat": 4,
 "nbformat_minor": 5
}
