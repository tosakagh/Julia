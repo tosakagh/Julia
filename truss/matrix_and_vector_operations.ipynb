{
 "cells": [
  {
   "cell_type": "code",
   "execution_count": 1,
   "id": "b0a30cd0-6273-4bde-9706-f531b54b3cbe",
   "metadata": {},
   "outputs": [
    {
     "data": {
      "text/plain": [
       "change_order (generic function with 1 method)"
      ]
     },
     "execution_count": 1,
     "metadata": {},
     "output_type": "execute_result"
    }
   ],
   "source": [
    "function change_order(order_in::Matrix{Int64})\n",
    "    m, n = size(order_in)\n",
    "    print((m,n))\n",
    "#    order_out = zeros(n)\n",
    "    order_out = Matrix{Int64}(undef,1,n)\n",
    "    for i = 1:n\n",
    "        order_out[order_in[i]] = i\n",
    "    end\n",
    "    order_out\n",
    "end"
   ]
  },
  {
   "cell_type": "code",
   "execution_count": 2,
   "id": "1a8cb851-09ea-45aa-9a0c-99b64110485f",
   "metadata": {},
   "outputs": [
    {
     "data": {
      "text/plain": [
       "change_order (generic function with 2 methods)"
      ]
     },
     "execution_count": 2,
     "metadata": {},
     "output_type": "execute_result"
    }
   ],
   "source": [
    "function change_order(order_in::Vector{Int64})\n",
    "#    m, n = size(order_in)\n",
    "    n = size(order_in, 1)\n",
    "    print(n)\n",
    "#    order_out = zeros(n)\n",
    "    order_out = Vector{Int64}(undef,n)\n",
    "    for i = 1:n\n",
    "        order_out[order_in[i]] = i\n",
    "    end\n",
    "    order_out\n",
    "end"
   ]
  },
  {
   "cell_type": "code",
   "execution_count": 3,
   "id": "dbff1623-8285-4183-8ef8-e759cfbe41ff",
   "metadata": {},
   "outputs": [],
   "source": [
    "#order_in = Vector{Int}(4)"
   ]
  },
  {
   "cell_type": "code",
   "execution_count": 4,
   "id": "52a29fc9-d264-46bc-8e48-288d46a195a0",
   "metadata": {},
   "outputs": [
    {
     "data": {
      "text/plain": [
       "1×4 Matrix{Int64}:\n",
       " 1  2  3  4"
      ]
     },
     "execution_count": 4,
     "metadata": {},
     "output_type": "execute_result"
    }
   ],
   "source": [
    "order_in = [ 1 2 3 4 ]  # 1x4 Matrix{Int64}"
   ]
  },
  {
   "cell_type": "code",
   "execution_count": 5,
   "id": "a1806b0c-50a4-4739-a617-2e9832de4e34",
   "metadata": {},
   "outputs": [],
   "source": [
    "#order_in = [1, 2, 3, 4]  # 4-element Vector{Int64}"
   ]
  },
  {
   "cell_type": "code",
   "execution_count": 6,
   "id": "62c42157-3580-4b11-b74a-97b6712f7739",
   "metadata": {},
   "outputs": [],
   "source": [
    "#order_in = Vector{Int}(undef, 4)"
   ]
  },
  {
   "cell_type": "code",
   "execution_count": 7,
   "id": "d8595480-1dff-47a5-aac9-478b62197110",
   "metadata": {},
   "outputs": [],
   "source": [
    "for i = 1:4\n",
    "    order_in[i] = 5-i\n",
    "end"
   ]
  },
  {
   "cell_type": "code",
   "execution_count": 8,
   "id": "94b0c4bc-f543-434a-bf68-a33c31d83422",
   "metadata": {},
   "outputs": [
    {
     "name": "stdout",
     "output_type": "stream",
     "text": [
      "[4 3 2 1]"
     ]
    }
   ],
   "source": [
    "print(order_in)"
   ]
  },
  {
   "cell_type": "code",
   "execution_count": 9,
   "id": "59ab3276-fe19-4f8e-a9b3-d13d1059b00b",
   "metadata": {
    "scrolled": true
   },
   "outputs": [
    {
     "name": "stdout",
     "output_type": "stream",
     "text": [
      "(1, 4)"
     ]
    },
    {
     "data": {
      "text/plain": [
       "1×4 Matrix{Int64}:\n",
       " 4  3  2  1"
      ]
     },
     "execution_count": 9,
     "metadata": {},
     "output_type": "execute_result"
    }
   ],
   "source": [
    "order_out = change_order(order_in)"
   ]
  }
 ],
 "metadata": {
  "kernelspec": {
   "display_name": "Julia 1.10.5",
   "language": "julia",
   "name": "julia-1.10"
  },
  "language_info": {
   "file_extension": ".jl",
   "mimetype": "application/julia",
   "name": "julia",
   "version": "1.10.5"
  }
 },
 "nbformat": 4,
 "nbformat_minor": 5
}
